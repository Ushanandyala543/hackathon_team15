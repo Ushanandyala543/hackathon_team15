{
 "cells": [
  {
   "cell_type": "markdown",
   "id": "ee7ca365",
   "metadata": {},
   "source": [
    "# Best Performing Student Recognition System Using Machine Learning"
   ]
  },
  {
   "cell_type": "code",
   "execution_count": 39,
   "id": "d94c09b2",
   "metadata": {},
   "outputs": [],
   "source": [
    "import pandas as pd\n",
    "from sklearn.preprocessing import StandardScaler\n",
    "from sklearn.linear_model import LinearRegression\n",
    "import numpy as np\n",
    "import tkinter as tk\n",
    "from tkinter import filedialog, messagebox\n",
    "from tkinter import ttk"
   ]
  },
  {
   "cell_type": "code",
   "execution_count": 40,
   "id": "eb9ad66f",
   "metadata": {},
   "outputs": [],
   "source": [
    "# Function to load data from a CSV file\n",
    "def load_data(file_path):\n",
    "    df = pd.read_csv(file_path)\n",
    "    return df"
   ]
  },
  {
   "cell_type": "code",
   "execution_count": 41,
   "id": "302705a9",
   "metadata": {},
   "outputs": [],
   "source": [
    "# Function to calculate scores based on given features\n",
    "def calculate_scores(df):\n",
    "    # Define features for the model\n",
    "    features = ['gpa_sem1', 'gpa_sem2', 'core_courses_avg', 'hackathons', 'papers_presented', 'assistance_hours']\n",
    "    # Standardize the features\n",
    "    scaler = StandardScaler()\n",
    "    features_scaled = scaler.fit_transform(df[features])\n",
    "    \n",
    "    # Create a Linear Regression model\n",
    "    model = LinearRegression()\n",
    "    \n",
    "    # Simulated contribution scores for training the model\n",
    "    np.random.seed(0)  # For reproducibility\n",
    "    contribution_scores = np.random.rand(len(df)) * 100  # Random scores between 0 and 100\n",
    "    \n",
    "    # Train the model\n",
    "    model.fit(features_scaled, contribution_scores)\n",
    "\n",
    "    # Predict scores for each student\n",
    "    df['predicted_score'] = model.predict(features_scaled)\n",
    "\n",
    "    return df"
   ]
  },
  {
   "cell_type": "code",
   "execution_count": 42,
   "id": "00ef0d01",
   "metadata": {},
   "outputs": [],
   "source": [
    "# Function to get the top 3 students for each year\n",
    "def get_top_students(df):\n",
    "    top_students_by_year = df.groupby('year').apply(lambda x: x.nlargest(3, 'predicted_score')).reset_index(drop=True)\n",
    "    return top_students_by_year[['year', 'student_id', 'predicted_score']]"
   ]
  },
  {
   "cell_type": "code",
   "execution_count": 43,
   "id": "2bd271d3",
   "metadata": {},
   "outputs": [],
   "source": [
    "# Function to handle the file upload and process\n",
    "def process_csv():\n",
    "    file_path = filedialog.askopenfilename(title=\"Select CSV File\", filetypes=[(\"CSV Files\", \"*.csv\")])\n",
    "    if file_path:\n",
    "        try:\n",
    "            df = load_data(file_path)\n",
    "            df_with_scores = calculate_scores(df)\n",
    "            top_students = get_top_students(df_with_scores)\n",
    "            display_top_students(top_students)\n",
    "        except Exception as e:\n",
    "            messagebox.showerror(\"Error\", f\"Failed to process file: {e}\")"
   ]
  },
  {
   "cell_type": "code",
   "execution_count": 44,
   "id": "503b2bb7",
   "metadata": {},
   "outputs": [],
   "source": [
    "# Function to display the top students with a gap between each year\n",
    "def display_top_students(top_students):\n",
    "    for row in tree.get_children():\n",
    "        tree.delete(row)  # Clear previous results\n",
    "\n",
    "    for year, group in top_students.groupby('year'):\n",
    "        # Insert a row with the year\n",
    "        tree.insert(\"\", tk.END, values=(f\"Year: {year}\", \"\", \"\"))\n",
    "\n",
    "        for i, (student_id, score) in enumerate(zip(group['student_id'], group['predicted_score']), start=1):\n",
    "            tree.insert(\"\", tk.END, values=(\"\", student_id, f\"{score:.2f}\"))\n",
    "\n",
    "        # Insert an empty row after the last student in each year\n",
    "        tree.insert(\"\", tk.END, values=(\"\", \"\", \"\"))"
   ]
  },
  {
   "cell_type": "code",
   "execution_count": 45,
   "id": "84efc812",
   "metadata": {},
   "outputs": [],
   "source": [
    "# Create the main application window\n",
    "app = tk.Tk()\n",
    "app.title(\"Best Performing Student Recognition System\")\n",
    "app.geometry(\"700x550\")\n",
    "app.configure(bg=\"#f8f8f8\")  # Light background color"
   ]
  },
  {
   "cell_type": "code",
   "execution_count": 46,
   "id": "71088c1c",
   "metadata": {},
   "outputs": [],
   "source": [
    "# Create a frame for the content with light color and padding\n",
    "frame = tk.Frame(app, bg=\"#E6E6FA\", padx=30, pady=30, relief=tk.GROOVE, bd=2)\n",
    "frame.pack(padx=20, pady=20, fill=tk.BOTH, expand=True)"
   ]
  },
  {
   "cell_type": "code",
   "execution_count": 47,
   "id": "d2a6a7df",
   "metadata": {},
   "outputs": [],
   "source": [
    "# Title label with modern font and padding\n",
    "title_label = tk.Label(frame, text=\"Best Performing Students\", font=(\"Arial\", 20, \"bold\"), bg=\"#E6E6FA\", fg=\"#333333\")\n",
    "title_label.pack(pady=20)"
   ]
  },
  {
   "cell_type": "code",
   "execution_count": 48,
   "id": "1e8ddc64",
   "metadata": {},
   "outputs": [],
   "source": [
    "# Create and place the upload button with a clear style\n",
    "upload_button = ttk.Button(frame, text=\"Upload CSV File\", command=process_csv, style=\"TButton\")\n",
    "upload_button.pack(pady=10)"
   ]
  },
  {
   "cell_type": "code",
   "execution_count": 49,
   "id": "90b61c31",
   "metadata": {},
   "outputs": [
    {
     "data": {
      "text/plain": [
       "{}"
      ]
     },
     "execution_count": 49,
     "metadata": {},
     "output_type": "execute_result"
    }
   ],
   "source": [
    "# Create Treeview widget to display the top students\n",
    "columns = ('year', 'student_id', 'predicted_score')\n",
    "tree = ttk.Treeview(frame, columns=columns, show=\"headings\")\n",
    "tree.heading('year', text='Year')\n",
    "tree.heading('student_id', text='Student ID')\n",
    "tree.heading('predicted_score', text='Predicted Score')"
   ]
  },
  {
   "cell_type": "code",
   "execution_count": 50,
   "id": "3657b707",
   "metadata": {},
   "outputs": [],
   "source": [
    "# Add horizontal and vertical scrollbars to the Treeview widget\n",
    "tree_scrollbar_y = ttk.Scrollbar(frame, orient=\"vertical\", command=tree.yview)\n",
    "tree_scrollbar_x = ttk.Scrollbar(frame, orient=\"horizontal\", command=tree.xview)\n",
    "tree.configure(yscrollcommand=tree_scrollbar_y.set, xscrollcommand=tree_scrollbar_x.set)\n",
    "tree_scrollbar_y.pack(side=tk.RIGHT, fill=tk.Y)\n",
    "tree_scrollbar_x.pack(side=tk.BOTTOM, fill=tk.X)"
   ]
  },
  {
   "cell_type": "code",
   "execution_count": 51,
   "id": "69686861",
   "metadata": {},
   "outputs": [],
   "source": [
    "# Pack the Treeview widget\n",
    "tree.pack(pady=10, fill=tk.BOTH, expand=True)"
   ]
  },
  {
   "cell_type": "code",
   "execution_count": 52,
   "id": "b10c8cdf",
   "metadata": {},
   "outputs": [],
   "source": [
    "# Apply a light and simple button style\n",
    "style = ttk.Style()\n",
    "style.configure(\"TButton\", font=(\"Arial\", 12), padding=10)"
   ]
  },
  {
   "cell_type": "code",
   "execution_count": 53,
   "id": "ec3402ce",
   "metadata": {},
   "outputs": [],
   "source": [
    "# Run the application\n",
    "app.mainloop()"
   ]
  },
  {
   "cell_type": "code",
   "execution_count": null,
   "id": "ea68926d",
   "metadata": {},
   "outputs": [],
   "source": []
  }
 ],
 "metadata": {
  "kernelspec": {
   "display_name": "Python 3 (ipykernel)",
   "language": "python",
   "name": "python3"
  },
  "language_info": {
   "codemirror_mode": {
    "name": "ipython",
    "version": 3
   },
   "file_extension": ".py",
   "mimetype": "text/x-python",
   "name": "python",
   "nbconvert_exporter": "python",
   "pygments_lexer": "ipython3",
   "version": "3.11.5"
  }
 },
 "nbformat": 4,
 "nbformat_minor": 5
}
